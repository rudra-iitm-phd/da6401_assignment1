{
 "cells": [
  {
   "cell_type": "code",
   "execution_count": 1,
   "metadata": {},
   "outputs": [],
   "source": [
    "import numpy as np\n",
    "from data_loader import Data\n",
    "from configure import Configure\n",
    "from score_metrics import Accuracy as accuracy"
   ]
  },
  {
   "cell_type": "code",
   "execution_count": 2,
   "metadata": {},
   "outputs": [],
   "source": [
    "data = Data(0.1)"
   ]
  },
  {
   "cell_type": "code",
   "execution_count": 3,
   "metadata": {},
   "outputs": [],
   "source": [
    "(X_train, y_train), (X_val, y_val), (X_test, y_test) = data.load_data(0.1)"
   ]
  },
  {
   "cell_type": "code",
   "execution_count": 4,
   "metadata": {},
   "outputs": [],
   "source": [
    "# data.display_collage((12,6))"
   ]
  },
  {
   "cell_type": "code",
   "execution_count": 5,
   "metadata": {},
   "outputs": [
    {
     "data": {
      "text/plain": [
       "(6000, 28, 28)"
      ]
     },
     "execution_count": 5,
     "metadata": {},
     "output_type": "execute_result"
    }
   ],
   "source": [
    "X_train.shape"
   ]
  },
  {
   "cell_type": "code",
   "execution_count": 6,
   "metadata": {},
   "outputs": [],
   "source": [
    "configuration = Configure()\n",
    "# configuration.show_blueprint()\n",
    "configuration_script = {\n",
    "      'hidden_layers':[784],\n",
    "      'input_size':28**2, \n",
    "      'output_size':10,\n",
    "      'activation_functions':['relu'],\n",
    "      'optimizer':'adagrad',\n",
    "      'loss_function':'cross entropy',\n",
    "      'weight_init':'xavier'\n",
    "}\n"
   ]
  },
  {
   "cell_type": "code",
   "execution_count": 7,
   "metadata": {},
   "outputs": [],
   "source": [
    "def check_equality(dict1, dict2):\n",
    "      for block in dict1.keys():\n",
    "            for layer in dict1[block].keys():\n",
    "                  if layer != 'h' and (False in np.equal(dict1[block][layer],dict2[block][layer])):\n",
    "                        return False \n",
    "      return True"
   ]
  },
  {
   "cell_type": "code",
   "execution_count": 8,
   "metadata": {},
   "outputs": [],
   "source": [
    "from train import Trainer"
   ]
  },
  {
   "cell_type": "code",
   "execution_count": 9,
   "metadata": {},
   "outputs": [],
   "source": [
    "trainer = Trainer(X_train, y_train, X_val, y_val)"
   ]
  },
  {
   "cell_type": "code",
   "execution_count": 10,
   "metadata": {},
   "outputs": [
    {
     "name": "stdout",
     "output_type": "stream",
     "text": [
      "Loss : 0.4      Train accuracy : 70.0      Validation accuracy : 65.36\n",
      "-------------------------------------------------------------------------------------\n",
      "Loss : 0.15      Train accuracy : 87.0      Validation accuracy : 82.79\n",
      "-------------------------------------------------------------------------------------\n"
     ]
    }
   ],
   "source": [
    "nn, optim, loss_fn = configuration.configure(configuration_script)\n",
    "trainer.learn(nn=nn, optim=optim, loss_fn=loss_fn, lr=0.1, batch_size=100, epochs=100, acc_metrics=accuracy)"
   ]
  },
  {
   "cell_type": "code",
   "execution_count": null,
   "metadata": {},
   "outputs": [],
   "source": []
  }
 ],
 "metadata": {
  "kernelspec": {
   "display_name": "Python 3.8.16",
   "language": "python",
   "name": "python3"
  },
  "language_info": {
   "codemirror_mode": {
    "name": "ipython",
    "version": 3
   },
   "file_extension": ".py",
   "mimetype": "text/x-python",
   "name": "python",
   "nbconvert_exporter": "python",
   "pygments_lexer": "ipython3",
   "version": "3.8.16"
  },
  "orig_nbformat": 4,
  "vscode": {
   "interpreter": {
    "hash": "f8ac3b1a99bccf8e204b9a92b8e122b054bc8101ea7845a1136c82fb64d195b0"
   }
  }
 },
 "nbformat": 4,
 "nbformat_minor": 2
}
