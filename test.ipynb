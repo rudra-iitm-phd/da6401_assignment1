{
 "cells": [
  {
   "cell_type": "code",
   "execution_count": 1,
   "metadata": {},
   "outputs": [],
   "source": [
    "import numpy as np\n",
    "from data_loader import Data\n",
    "from configure import Configure\n",
    "from score_metrics import Accuracy as accuracy"
   ]
  },
  {
   "cell_type": "code",
   "execution_count": 2,
   "metadata": {},
   "outputs": [],
   "source": [
    "data = Data(0.1)"
   ]
  },
  {
   "cell_type": "code",
   "execution_count": 3,
   "metadata": {},
   "outputs": [],
   "source": [
    "(X_train, y_train), (X_val, y_val), (X_test, y_test) = data.load_data(0.1)"
   ]
  },
  {
   "cell_type": "code",
   "execution_count": 4,
   "metadata": {},
   "outputs": [],
   "source": [
    "# data.display_collage((12,6))"
   ]
  },
  {
   "cell_type": "code",
   "execution_count": 5,
   "metadata": {},
   "outputs": [
    {
     "data": {
      "text/plain": [
       "(6000, 28, 28)"
      ]
     },
     "execution_count": 5,
     "metadata": {},
     "output_type": "execute_result"
    }
   ],
   "source": [
    "X_train.shape"
   ]
  },
  {
   "cell_type": "code",
   "execution_count": 6,
   "metadata": {},
   "outputs": [],
   "source": [
    "configuration = Configure()\n",
    "# configuration.show_blueprint()\n",
    "configuration_script = {\n",
    "      'hidden_layers':[784],\n",
    "      'input_size':28**2, \n",
    "      'output_size':10,\n",
    "      'activation_functions':['relu'],\n",
    "      'optimizer':'nag',\n",
    "      'loss_function':'cross entropy',\n",
    "      'weight_init':'xavier'\n",
    "}\n"
   ]
  },
  {
   "cell_type": "code",
   "execution_count": 7,
   "metadata": {},
   "outputs": [],
   "source": [
    "def check_equality(dict1, dict2):\n",
    "      for block in dict1.keys():\n",
    "            for layer in dict1[block].keys():\n",
    "                  if layer != 'h' and (False in np.equal(dict1[block][layer],dict2[block][layer])):\n",
    "                        return False \n",
    "      return True"
   ]
  },
  {
   "cell_type": "code",
   "execution_count": 8,
   "metadata": {},
   "outputs": [],
   "source": [
    "from trainer import Trainer"
   ]
  },
  {
   "cell_type": "code",
   "execution_count": 9,
   "metadata": {},
   "outputs": [],
   "source": [
    "trainer = Trainer(X_train, y_train, X_val, y_val)"
   ]
  },
  {
   "cell_type": "code",
   "execution_count": 10,
   "metadata": {},
   "outputs": [
    {
     "name": "stdout",
     "output_type": "stream",
     "text": [
      "Loss : 0.26      Train accuracy : 81.8      Validation accuracy : 78.79\n",
      "-------------------------------------------------------------------------------------\n",
      "Loss : 0.07      Train accuracy : 95.9      Validation accuracy : 82.53\n",
      "-------------------------------------------------------------------------------------\n",
      "Loss : 0.07      Train accuracy : 95.85      Validation accuracy : 81.83\n",
      "-------------------------------------------------------------------------------------\n",
      "Loss : 0.07      Train accuracy : 95.87      Validation accuracy : 81.29\n",
      "-------------------------------------------------------------------------------------\n",
      "Loss : 0.07      Train accuracy : 95.38      Validation accuracy : 80.46\n",
      "-------------------------------------------------------------------------------------\n",
      "Loss : 0.07      Train accuracy : 94.82      Validation accuracy : 80.02\n",
      "-------------------------------------------------------------------------------------\n",
      "Loss : 0.07      Train accuracy : 95.2      Validation accuracy : 79.76\n",
      "-------------------------------------------------------------------------------------\n"
     ]
    },
    {
     "ename": "KeyboardInterrupt",
     "evalue": "",
     "output_type": "error",
     "traceback": [
      "\u001b[0;31m---------------------------------------------------------------------------\u001b[0m",
      "\u001b[0;31mKeyboardInterrupt\u001b[0m                         Traceback (most recent call last)",
      "Cell \u001b[0;32mIn[10], line 2\u001b[0m\n\u001b[1;32m      1\u001b[0m nn, optim, loss_fn \u001b[38;5;241m=\u001b[39m configuration\u001b[38;5;241m.\u001b[39mconfigure(configuration_script)\n\u001b[0;32m----> 2\u001b[0m \u001b[43mtrainer\u001b[49m\u001b[38;5;241;43m.\u001b[39;49m\u001b[43mlearn\u001b[49m\u001b[43m(\u001b[49m\u001b[43mnn\u001b[49m\u001b[38;5;241;43m=\u001b[39;49m\u001b[43mnn\u001b[49m\u001b[43m,\u001b[49m\u001b[43m \u001b[49m\u001b[43moptim\u001b[49m\u001b[38;5;241;43m=\u001b[39;49m\u001b[43moptim\u001b[49m\u001b[43m,\u001b[49m\u001b[43m \u001b[49m\u001b[43mloss_fn\u001b[49m\u001b[38;5;241;43m=\u001b[39;49m\u001b[43mloss_fn\u001b[49m\u001b[43m,\u001b[49m\u001b[43m \u001b[49m\u001b[43mlr\u001b[49m\u001b[38;5;241;43m=\u001b[39;49m\u001b[38;5;241;43m0.1\u001b[39;49m\u001b[43m,\u001b[49m\u001b[43m \u001b[49m\u001b[43mbatch_size\u001b[49m\u001b[38;5;241;43m=\u001b[39;49m\u001b[38;5;241;43m32\u001b[39;49m\u001b[43m,\u001b[49m\u001b[43m \u001b[49m\u001b[43mepochs\u001b[49m\u001b[38;5;241;43m=\u001b[39;49m\u001b[38;5;241;43m1000\u001b[39;49m\u001b[43m,\u001b[49m\u001b[43m \u001b[49m\u001b[43macc_metrics\u001b[49m\u001b[38;5;241;43m=\u001b[39;49m\u001b[43maccuracy\u001b[49m\u001b[43m,\u001b[49m\u001b[43m \u001b[49m\u001b[43mloss\u001b[49m\u001b[43m \u001b[49m\u001b[38;5;241;43m=\u001b[39;49m\u001b[43m \u001b[49m\u001b[43mloss_fn\u001b[49m\u001b[43m,\u001b[49m\u001b[43m \u001b[49m\u001b[43mbeta\u001b[49m\u001b[43m \u001b[49m\u001b[38;5;241;43m=\u001b[39;49m\u001b[43m \u001b[49m\u001b[38;5;241;43m0.9\u001b[39;49m\u001b[43m,\u001b[49m\u001b[43m \u001b[49m\u001b[43mforward\u001b[49m\u001b[38;5;241;43m=\u001b[39;49m\u001b[43mnn\u001b[49m\u001b[38;5;241;43m.\u001b[39;49m\u001b[43mforward\u001b[49m\u001b[43m)\u001b[49m\n",
      "File \u001b[0;32m~/Documents/PhD IIT Madras/Intro to Deep Learning M Khapra DA6401/DA6401 Assignment/da6401_assignment1/train.py:50\u001b[0m, in \u001b[0;36mTrainer.learn\u001b[0;34m(self, nn, optim, loss_fn, lr, batch_size, epochs, acc_metrics, **kwargs)\u001b[0m\n\u001b[1;32m     48\u001b[0m       loss\u001b[39m.\u001b[39mcompute(logits, y)\n\u001b[1;32m     49\u001b[0m       grads \u001b[39m=\u001b[39m loss\u001b[39m.\u001b[39mbackpropagate(params)\n\u001b[0;32m---> 50\u001b[0m       updated_params \u001b[39m=\u001b[39m optim\u001b[39m.\u001b[39;49mupdate(params, grads)\n\u001b[1;32m     51\u001b[0m       nn\u001b[39m.\u001b[39mset_params(updated_params)\n\u001b[1;32m     54\u001b[0m \u001b[39mif\u001b[39;00m epoch \u001b[39m%\u001b[39m \u001b[39m50\u001b[39m \u001b[39m==\u001b[39m \u001b[39m0\u001b[39m :\n",
      "\u001b[0;31mKeyboardInterrupt\u001b[0m: "
     ]
    }
   ],
   "source": [
    "nn, optim, loss_fn = configuration.configure(configuration_script)\n",
    "trainer.learn(nn=nn, optim=optim, loss_fn=loss_fn, lr=0.1, batch_size=32, epochs=1000, acc_metrics=accuracy, loss = loss_fn, beta = 0.9, forward=nn.forward)"
   ]
  },
  {
   "cell_type": "code",
   "execution_count": null,
   "metadata": {},
   "outputs": [],
   "source": []
  }
 ],
 "metadata": {
  "kernelspec": {
   "display_name": "Python 3.8.16",
   "language": "python",
   "name": "python3"
  },
  "language_info": {
   "codemirror_mode": {
    "name": "ipython",
    "version": 3
   },
   "file_extension": ".py",
   "mimetype": "text/x-python",
   "name": "python",
   "nbconvert_exporter": "python",
   "pygments_lexer": "ipython3",
   "version": "3.8.16"
  },
  "orig_nbformat": 4,
  "vscode": {
   "interpreter": {
    "hash": "f8ac3b1a99bccf8e204b9a92b8e122b054bc8101ea7845a1136c82fb64d195b0"
   }
  }
 },
 "nbformat": 4,
 "nbformat_minor": 2
}
