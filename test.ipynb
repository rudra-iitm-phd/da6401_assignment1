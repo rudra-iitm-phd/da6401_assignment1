{
 "cells": [
  {
   "cell_type": "code",
   "execution_count": 1,
   "metadata": {},
   "outputs": [],
   "source": [
    "import numpy as np\n",
    "from data_loader import Data\n",
    "from configure import Configure\n",
    "from score_metrics import Accuracy as accuracy"
   ]
  },
  {
   "cell_type": "code",
   "execution_count": 2,
   "metadata": {},
   "outputs": [],
   "source": [
    "data = Data(0.1)"
   ]
  },
  {
   "cell_type": "code",
   "execution_count": 3,
   "metadata": {},
   "outputs": [],
   "source": [
    "(X_train, y_train), (X_val, y_val), (X_test, y_test) = data.load_data(0.1)"
   ]
  },
  {
   "cell_type": "code",
   "execution_count": 4,
   "metadata": {},
   "outputs": [],
   "source": [
    "# data.display_collage((12,6))"
   ]
  },
  {
   "cell_type": "code",
   "execution_count": 5,
   "metadata": {},
   "outputs": [
    {
     "data": {
      "text/plain": [
       "(6000, 28, 28)"
      ]
     },
     "execution_count": 5,
     "metadata": {},
     "output_type": "execute_result"
    }
   ],
   "source": [
    "X_train.shape"
   ]
  },
  {
   "cell_type": "code",
   "execution_count": 6,
   "metadata": {},
   "outputs": [],
   "source": [
    "configuration = Configure()\n",
    "# configuration.show_blueprint()\n",
    "configuration_script = {\n",
    "      'hidden_layers':[784],\n",
    "      'input_size':28**2, \n",
    "      'output_size':10,\n",
    "      'activation_functions':['relu'],\n",
    "      'optimizer':'vanilla',\n",
    "      'loss_function':'cross entropy',\n",
    "      'weight_init':'xavier'\n",
    "}\n"
   ]
  },
  {
   "cell_type": "code",
   "execution_count": 7,
   "metadata": {},
   "outputs": [],
   "source": [
    "def check_equality(dict1, dict2):\n",
    "      for block in dict1.keys():\n",
    "            for layer in dict1[block].keys():\n",
    "                  if layer != 'h' and (False in np.equal(dict1[block][layer],dict2[block][layer])):\n",
    "                        return False \n",
    "      return True"
   ]
  },
  {
   "cell_type": "code",
   "execution_count": 8,
   "metadata": {},
   "outputs": [],
   "source": [
    "from train import Trainer"
   ]
  },
  {
   "cell_type": "code",
   "execution_count": 9,
   "metadata": {},
   "outputs": [],
   "source": [
    "trainer = Trainer(X_train, y_train, X_val, y_val)"
   ]
  },
  {
   "cell_type": "code",
   "execution_count": 10,
   "metadata": {},
   "outputs": [
    {
     "name": "stdout",
     "output_type": "stream",
     "text": [
      "Loss : 22.86      Train accuracy : 21.1      Validation accuracy : 18.19\n",
      "-------------------------------------------------------------------------------------------------------------------------------------\n",
      "Loss : 6.3      Train accuracy : 71.2      Validation accuracy : 70.57\n",
      "-------------------------------------------------------------------------------------------------------------------------------------\n",
      "Loss : 5.86      Train accuracy : 71.3      Validation accuracy : 67.95\n",
      "-------------------------------------------------------------------------------------------------------------------------------------\n",
      "Loss : 3.28      Train accuracy : 73.8      Validation accuracy : 71.61\n",
      "-------------------------------------------------------------------------------------------------------------------------------------\n"
     ]
    },
    {
     "ename": "KeyboardInterrupt",
     "evalue": "",
     "output_type": "error",
     "traceback": [
      "\u001b[0;31m---------------------------------------------------------------------------\u001b[0m",
      "\u001b[0;31mKeyboardInterrupt\u001b[0m                         Traceback (most recent call last)",
      "Cell \u001b[0;32mIn[10], line 2\u001b[0m\n\u001b[1;32m      1\u001b[0m nn, optim, loss_fn \u001b[38;5;241m=\u001b[39m configuration\u001b[38;5;241m.\u001b[39mconfigure(configuration_script)\n\u001b[0;32m----> 2\u001b[0m \u001b[43mtrainer\u001b[49m\u001b[38;5;241;43m.\u001b[39;49m\u001b[43mlearn\u001b[49m\u001b[43m(\u001b[49m\u001b[43mnn\u001b[49m\u001b[43m,\u001b[49m\u001b[43m \u001b[49m\u001b[43moptim\u001b[49m\u001b[43m,\u001b[49m\u001b[43m \u001b[49m\u001b[43mloss_fn\u001b[49m\u001b[43m,\u001b[49m\u001b[43m \u001b[49m\u001b[38;5;241;43m0.1\u001b[39;49m\u001b[43m,\u001b[49m\u001b[43m \u001b[49m\u001b[38;5;241;43m1000\u001b[39;49m\u001b[43m,\u001b[49m\u001b[43m \u001b[49m\u001b[38;5;241;43m1000\u001b[39;49m\u001b[43m,\u001b[49m\u001b[43m \u001b[49m\u001b[43maccuracy\u001b[49m\u001b[43m)\u001b[49m\n",
      "File \u001b[0;32m~/Documents/PhD IIT Madras/Intro to Deep Learning M Khapra DA6401/DA6401 Assignment/da6401_assignment1/train.py:39\u001b[0m, in \u001b[0;36mTrainer.learn\u001b[0;34m(self, nn, optim, loss_fn, lr, batch_size, epochs, acc_metrics)\u001b[0m\n\u001b[1;32m     37\u001b[0m train_loss \u001b[39m=\u001b[39m loss\u001b[39m.\u001b[39mcompute(nn\u001b[39m.\u001b[39minfer(x), y)\n\u001b[1;32m     38\u001b[0m train_accuracy \u001b[39m=\u001b[39m acc\u001b[39m.\u001b[39mcompute(nn\u001b[39m.\u001b[39minfer(x, \u001b[39mFalse\u001b[39;00m), y)\n\u001b[0;32m---> 39\u001b[0m val_accuracy \u001b[39m=\u001b[39m acc\u001b[39m.\u001b[39mcompute(nn\u001b[39m.\u001b[39;49minfer(\u001b[39mself\u001b[39;49m\u001b[39m.\u001b[39;49mX_val, \u001b[39mFalse\u001b[39;49;00m), \u001b[39mself\u001b[39m\u001b[39m.\u001b[39my_val)\n\u001b[1;32m     40\u001b[0m \u001b[39mself\u001b[39m\u001b[39m.\u001b[39mverbosity(train_loss, train_accuracy, val_accuracy)\n",
      "File \u001b[0;32m~/Documents/PhD IIT Madras/Intro to Deep Learning M Khapra DA6401/DA6401 Assignment/da6401_assignment1/neural_network.py:88\u001b[0m, in \u001b[0;36mNeuralNetwork.infer\u001b[0;34m(self, x, logits)\u001b[0m\n\u001b[1;32m     87\u001b[0m \u001b[39mdef\u001b[39;00m \u001b[39minfer\u001b[39m(\u001b[39mself\u001b[39m, x:np\u001b[39m.\u001b[39mndarray, logits\u001b[39m=\u001b[39m\u001b[39mTrue\u001b[39;00m):\n\u001b[0;32m---> 88\u001b[0m   l \u001b[39m=\u001b[39m \u001b[39mself\u001b[39;49m\u001b[39m.\u001b[39;49mforward(x)[\u001b[39m1\u001b[39m]\n\u001b[1;32m     89\u001b[0m   \u001b[39mif\u001b[39;00m logits:\n\u001b[1;32m     90\u001b[0m     \u001b[39mreturn\u001b[39;00m l\n",
      "File \u001b[0;32m~/Documents/PhD IIT Madras/Intro to Deep Learning M Khapra DA6401/DA6401 Assignment/da6401_assignment1/neural_network.py:78\u001b[0m, in \u001b[0;36mNeuralNetwork.forward\u001b[0;34m(self, x)\u001b[0m\n\u001b[1;32m     75\u001b[0m \u001b[39melse\u001b[39;00m:\n\u001b[1;32m     76\u001b[0m   \u001b[39mself\u001b[39m\u001b[39m.\u001b[39mparams[block][\u001b[39m'\u001b[39m\u001b[39ma\u001b[39m\u001b[39m'\u001b[39m] \u001b[39m=\u001b[39m \u001b[39mself\u001b[39m\u001b[39m.\u001b[39mparams[block][\u001b[39m'\u001b[39m\u001b[39mw\u001b[39m\u001b[39m'\u001b[39m]\u001b[39m.\u001b[39mdot(\u001b[39mself\u001b[39m\u001b[39m.\u001b[39mparams[prev_block][\u001b[39m'\u001b[39m\u001b[39mo\u001b[39m\u001b[39m'\u001b[39m]) \u001b[39m+\u001b[39m \u001b[39mself\u001b[39m\u001b[39m.\u001b[39mparams[block][\u001b[39m'\u001b[39m\u001b[39mb\u001b[39m\u001b[39m'\u001b[39m]\n\u001b[0;32m---> 78\u001b[0m \u001b[39mself\u001b[39m\u001b[39m.\u001b[39mparams[block][\u001b[39m'\u001b[39m\u001b[39mo\u001b[39m\u001b[39m'\u001b[39m] \u001b[39m=\u001b[39m \u001b[39mself\u001b[39;49m\u001b[39m.\u001b[39;49mparams[block][\u001b[39m'\u001b[39;49m\u001b[39mh\u001b[39;49m\u001b[39m'\u001b[39;49m](\u001b[39mself\u001b[39;49m\u001b[39m.\u001b[39;49mparams[block][\u001b[39m'\u001b[39;49m\u001b[39ma\u001b[39;49m\u001b[39m'\u001b[39;49m])\n\u001b[1;32m     80\u001b[0m k \u001b[39m+\u001b[39m\u001b[39m=\u001b[39m \u001b[39m1\u001b[39m\n\u001b[1;32m     81\u001b[0m prev_block \u001b[39m=\u001b[39m block\n",
      "File \u001b[0;32m~/Documents/PhD IIT Madras/Intro to Deep Learning M Khapra DA6401/DA6401 Assignment/da6401_assignment1/activation.py:19\u001b[0m, in \u001b[0;36mActivationFunctions.relu\u001b[0;34m(self, x)\u001b[0m\n\u001b[1;32m     18\u001b[0m \u001b[39mdef\u001b[39;00m \u001b[39mrelu\u001b[39m(\u001b[39mself\u001b[39m, x):\n\u001b[0;32m---> 19\u001b[0m   x \u001b[39m=\u001b[39m x\u001b[39m.\u001b[39;49mcopy()\n\u001b[1;32m     20\u001b[0m   \u001b[39mreturn\u001b[39;00m np\u001b[39m.\u001b[39mmaximum(x, \u001b[39m0\u001b[39m)\n",
      "\u001b[0;31mKeyboardInterrupt\u001b[0m: "
     ]
    }
   ],
   "source": [
    "nn, optim, loss_fn = configuration.configure(configuration_script)\n",
    "trainer.learn(nn, optim, loss_fn, 0.1, 1000, 1000, accuracy)"
   ]
  },
  {
   "cell_type": "code",
   "execution_count": null,
   "metadata": {},
   "outputs": [],
   "source": [
    "np.random.rand()"
   ]
  }
 ],
 "metadata": {
  "kernelspec": {
   "display_name": "Python 3.8.16",
   "language": "python",
   "name": "python3"
  },
  "language_info": {
   "codemirror_mode": {
    "name": "ipython",
    "version": 3
   },
   "file_extension": ".py",
   "mimetype": "text/x-python",
   "name": "python",
   "nbconvert_exporter": "python",
   "pygments_lexer": "ipython3",
   "version": "3.8.16"
  },
  "orig_nbformat": 4,
  "vscode": {
   "interpreter": {
    "hash": "f8ac3b1a99bccf8e204b9a92b8e122b054bc8101ea7845a1136c82fb64d195b0"
   }
  }
 },
 "nbformat": 4,
 "nbformat_minor": 2
}
